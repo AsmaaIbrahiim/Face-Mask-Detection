{
 "cells": [
  {
   "cell_type": "code",
   "execution_count": 1,
   "metadata": {},
   "outputs": [],
   "source": [
    "from tensorflow.keras.preprocessing.image import ImageDataGenerator\n",
    "from tensorflow.keras.preprocessing import image_dataset_from_directory\n",
    "import matplotlib.pyplot as plt"
   ]
  },
  {
   "cell_type": "markdown",
   "metadata": {},
   "source": [
    "### Loading data into generators with augmentation"
   ]
  },
  {
   "cell_type": "code",
   "execution_count": 2,
   "metadata": {},
   "outputs": [],
   "source": [
    "train_dir='Face Mask Dataset/Train'\n",
    "val_dir='Face Mask Dataset/Validation'\n",
    "test_dir='Face Mask Dataset/Test'\n",
    "HEIGHT = 128\n",
    "WIDTH = 128\n",
    "BATCH_SIZE = 64"
   ]
  },
  {
   "cell_type": "code",
   "execution_count": 3,
   "metadata": {},
   "outputs": [],
   "source": [
    "train_generator=ImageDataGenerator(rescale=1/255,\n",
    "                                  rotation_range = 40,\n",
    "                                   height_shift_range=(-4,4),\n",
    "                                  width_shift_range = (-4,4),\n",
    "                                  brightness_range = (0.3,1.7))\n",
    "val_generator=ImageDataGenerator(rescale=1/255,\n",
    "                                  rotation_range = 40,\n",
    "                                   height_shift_range=(-4,4),\n",
    "                                  width_shift_range = (-4,4),\n",
    "                                  brightness_range = (0.3,1.7))\n",
    "test_generator= ImageDataGenerator(rescale=1/255,\n",
    "                                  rotation_range = 40,\n",
    "                                   height_shift_range=(-4,4),\n",
    "                                  width_shift_range = (-4,4),\n",
    "                                  brightness_range = (0.3,1.7))"
   ]
  },
  {
   "cell_type": "code",
   "execution_count": 4,
   "metadata": {
    "scrolled": true
   },
   "outputs": [
    {
     "name": "stdout",
     "output_type": "stream",
     "text": [
      "Found 10000 images belonging to 2 classes.\n",
      "Found 800 images belonging to 2 classes.\n",
      "Found 992 images belonging to 2 classes.\n"
     ]
    }
   ],
   "source": [
    "### Generators; train, val and test\n",
    "train_data_generator=train_generator.flow_from_directory(train_dir,\n",
    "                                             target_size=(HEIGHT,WIDTH),\n",
    "                                             batch_size = BATCH_SIZE,\n",
    "                                            shuffle = True,\n",
    "                                            class_mode='binary',\n",
    "                                            color_mode='rgb',\n",
    "                                            interpolation=\"bicubic\")\n",
    "\n",
    "val_data_generator=val_generator.flow_from_directory(val_dir,\n",
    "                                             target_size=(HEIGHT,WIDTH),\n",
    "                                             batch_size = BATCH_SIZE,\n",
    "                                            shuffle = True,\n",
    "                                            class_mode='binary',\n",
    "                                            color_mode='rgb',\n",
    "                                            interpolation=\"bicubic\")\n",
    "test_data_generator=test_generator.flow_from_directory(test_dir,\n",
    "                                             target_size=(HEIGHT,WIDTH),\n",
    "                                             batch_size = BATCH_SIZE,\n",
    "                                            shuffle = True,\n",
    "                                            class_mode='binary',\n",
    "                                            color_mode='rgb',\n",
    "                                            interpolation=\"bicubic\")"
   ]
  },
  {
   "cell_type": "markdown",
   "metadata": {},
   "source": [
    "### Dataset Examples"
   ]
  },
  {
   "cell_type": "code",
   "execution_count": 5,
   "metadata": {},
   "outputs": [],
   "source": [
    "classes = ['masked','non_masked']"
   ]
  },
  {
   "cell_type": "code",
   "execution_count": null,
   "metadata": {},
   "outputs": [],
   "source": [
    "## train\n",
    "plt.figure(figsize=(10, 10))\n",
    "for i in range(25):\n",
    "    ax = plt.subplot(5, 5, i + 1)\n",
    "    images, labels = next(train_data_generator)\n",
    "    plt.imshow(images[i])\n",
    "    plt.title(classes[int(labels[i])])\n",
    "    plt.axis(\"off\")"
   ]
  }
 ],
 "metadata": {
  "kernelspec": {
   "display_name": "Python 3",
   "language": "python",
   "name": "python3"
  },
  "language_info": {
   "codemirror_mode": {
    "name": "ipython",
    "version": 3
   },
   "file_extension": ".py",
   "mimetype": "text/x-python",
   "name": "python",
   "nbconvert_exporter": "python",
   "pygments_lexer": "ipython3",
   "version": "3.8.3"
  }
 },
 "nbformat": 4,
 "nbformat_minor": 4
}
