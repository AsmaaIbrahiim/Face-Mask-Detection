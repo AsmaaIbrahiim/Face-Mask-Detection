{
  "nbformat": 4,
  "nbformat_minor": 0,
  "metadata": {
    "colab": {
      "name": "Face Mask Detection| Transfer learning #1.ipynb",
      "provenance": [],
      "authorship_tag": "ABX9TyPRnzavkwzJz4QraHNXYyIa",
      "include_colab_link": true
    },
    "kernelspec": {
      "name": "python3",
      "display_name": "Python 3"
    },
    "language_info": {
      "name": "python"
    },
    "accelerator": "GPU"
  },
  "cells": [
    {
      "cell_type": "markdown",
      "metadata": {
        "id": "view-in-github",
        "colab_type": "text"
      },
      "source": [
        "<a href=\"https://colab.research.google.com/github/AsmaaIbrahiim/Face-Mask-Detection/blob/model_1/Face_Mask_Detection%7C_Transfer_learning_1.ipynb\" target=\"_parent\"><img src=\"https://colab.research.google.com/assets/colab-badge.svg\" alt=\"Open In Colab\"/></a>"
      ]
    },
    {
      "cell_type": "markdown",
      "metadata": {
        "id": "WwH07iLXvSrA"
      },
      "source": [
        "University of Science and Technology, Zewail City <br>\n",
        "Communications and Information Engineering Program <br>\n",
        "CIE 555 - Deep Learning and Neural Networks <br>\n",
        "Course Project - **Face Mask Detection**"
      ]
    },
    {
      "cell_type": "markdown",
      "metadata": {
        "id": "HSrJz7pivb3h"
      },
      "source": [
        "# **Imports**"
      ]
    },
    {
      "cell_type": "code",
      "metadata": {
        "id": "j29mP-gpYW4n"
      },
      "source": [
        "from tensorflow.keras.preprocessing.image import ImageDataGenerator\n",
        "from tensorflow.keras.preprocessing import image_dataset_from_directory\n",
        "import matplotlib.pyplot as plt\n",
        "# =========================================== #\n",
        "import keras.applications\n",
        "from keras.models import Model\n",
        "from keras.layers import Dense, Flatten,Dropout\n",
        "import tensorflow as tf"
      ],
      "execution_count": 79,
      "outputs": []
    },
    {
      "cell_type": "markdown",
      "metadata": {
        "id": "Bf3FSSAfZ5c8"
      },
      "source": [
        "# **Dataset Import**"
      ]
    },
    {
      "cell_type": "code",
      "metadata": {
        "id": "AvO03xeQZ81z"
      },
      "source": [
        "# Import PyDrive and associated libraries.\n",
        "# This only needs to be done once per notebook.\n",
        "from pydrive.auth import GoogleAuth\n",
        "from pydrive.drive import GoogleDrive\n",
        "from google.colab import auth\n",
        "from oauth2client.client import GoogleCredentials\n",
        "\n",
        "# Authenticate and create the PyDrive client.\n",
        "# This only needs to be done once per notebook.\n",
        "auth.authenticate_user()\n",
        "gauth = GoogleAuth()\n",
        "gauth.credentials = GoogleCredentials.get_application_default()\n",
        "drive = GoogleDrive(gauth)\n",
        "\n",
        "# Download a file based on its file ID.\n",
        "file_id = '1UXAbqllbeh14XslYxAuTOfd3hsvbmp0G'\n",
        "downloaded = drive.CreateFile({'id': file_id})\n",
        "downloaded.GetContentFile('archive.zip')"
      ],
      "execution_count": 83,
      "outputs": []
    },
    {
      "cell_type": "code",
      "metadata": {
        "id": "SR_YwQLdaX4X",
        "colab": {
          "base_uri": "https://localhost:8080/"
        },
        "outputId": "3238e71a-092a-4911-a4dd-5188730e53b7"
      },
      "source": [
        "!mkdir /content/dataset\n",
        "!unzip -q /content/archive.zip -d /content/dataset "
      ],
      "execution_count": 84,
      "outputs": [
        {
          "output_type": "stream",
          "text": [
            "mkdir: cannot create directory ‘/content/dataset’: File exists\n",
            "replace /content/dataset/Face Mask Dataset/Test/WithMask/1163.png? [y]es, [n]o, [A]ll, [N]one, [r]ename: n\n",
            "replace /content/dataset/Face Mask Dataset/Test/WithMask/1174.png? [y]es, [n]o, [A]ll, [N]one, [r]ename: A\n",
            "n\n"
          ],
          "name": "stdout"
        }
      ]
    },
    {
      "cell_type": "markdown",
      "metadata": {
        "id": "LmVFvvUNuz74"
      },
      "source": [
        "# **Dataset Visualization**"
      ]
    },
    {
      "cell_type": "markdown",
      "metadata": {
        "id": "iqNeBR_VYW4q"
      },
      "source": [
        "# **Loading data into generators + Helper Functions**"
      ]
    },
    {
      "cell_type": "code",
      "metadata": {
        "id": "yvoZfkAyYW4q"
      },
      "source": [
        "# General Parameters\n",
        "train_dir='/content/dataset/Face Mask Dataset/Train'\n",
        "val_dir='/content/dataset/Face Mask Dataset/Validation'\n",
        "test_dir='/content/dataset/Face Mask Dataset/Test'\n",
        "HEIGHT = 128\n",
        "WIDTH = 128\n",
        "BATCH_SIZE = 500"
      ],
      "execution_count": 41,
      "outputs": []
    },
    {
      "cell_type": "code",
      "metadata": {
        "id": "dQxa-JwgtqbG"
      },
      "source": [
        "def get_generators(preprocessing_object = tf.keras.applications.vgg19.preprocess_input):\n",
        "  #preprocessing_function = preprocessing_object,\n",
        "  train_generator=ImageDataGenerator(\n",
        "                                    rescale=1/255,\n",
        "                                    rotation_range = 40,\n",
        "                                    height_shift_range=(-4,4),\n",
        "                                    width_shift_range = (-4,4),\n",
        "                                    brightness_range = (0.3,1.7))\n",
        "  val_generator=ImageDataGenerator(\n",
        "                                    rescale=1/255,\n",
        "                                    rotation_range = 40,\n",
        "                                    height_shift_range=(-4,4),\n",
        "                                    width_shift_range = (-4,4),\n",
        "                                    brightness_range = (0.3,1.7))\n",
        "  test_generator= ImageDataGenerator(preprocessing_function = preprocessing_object)\n",
        "\n",
        "  ### Generators; train, val and test\n",
        "  train_data_generator=train_generator.flow_from_directory(train_dir,\n",
        "                                              target_size=(HEIGHT,WIDTH),\n",
        "                                              batch_size = BATCH_SIZE,\n",
        "                                              shuffle = True,\n",
        "                                              class_mode='categorical',\n",
        "                                              color_mode='rgb')\n",
        "\n",
        "  val_data_generator=val_generator.flow_from_directory(val_dir,\n",
        "                                              target_size=(HEIGHT,WIDTH),\n",
        "                                              batch_size = BATCH_SIZE,\n",
        "                                              shuffle = True,\n",
        "                                              class_mode='categorical',\n",
        "                                              color_mode='rgb')\n",
        "  test_data_generator=test_generator.flow_from_directory(test_dir,\n",
        "                                              target_size=(HEIGHT,WIDTH),\n",
        "                                              batch_size = BATCH_SIZE,\n",
        "                                              shuffle = False,\n",
        "                                              class_mode='categorical',\n",
        "                                              color_mode='rgb')\n",
        "  return train_data_generator, val_data_generator, test_data_generator"
      ],
      "execution_count": 42,
      "outputs": []
    },
    {
      "cell_type": "code",
      "metadata": {
        "id": "3FNOScYgmX5V"
      },
      "source": [
        "def plot_history(history):\n",
        "  acc = history.history['accuracy']\n",
        "  val_acc = history.history['val_accuracy']\n",
        "\n",
        "  loss = history.history['loss']\n",
        "  val_loss = history.history['val_loss']\n",
        "\n",
        "  plt.figure(figsize=(8, 8))\n",
        "  plt.subplot(2, 1, 1)\n",
        "  plt.plot(acc, label='Training Accuracy')\n",
        "  plt.plot(val_acc, label='Validation Accuracy')\n",
        "  plt.legend(loc='lower right')\n",
        "  plt.ylabel('Accuracy')\n",
        "  #plt.ylim([min(plt.ylim()),1])\n",
        "  plt.title('Training and Validation Accuracy')\n",
        "\n",
        "  plt.subplot(2, 1, 2)\n",
        "  plt.plot(loss, label='Training Loss')\n",
        "  plt.plot(val_loss, label='Validation Loss')\n",
        "  plt.legend(loc='upper right')\n",
        "  plt.ylabel('Categorical Cross Entropy')\n",
        "  #plt.ylim([0,1.0])\n",
        "  plt.title('Training and Validation Loss')\n",
        "  plt.xlabel('epoch')\n",
        "  plt.show()"
      ],
      "execution_count": 73,
      "outputs": []
    },
    {
      "cell_type": "markdown",
      "metadata": {
        "id": "wxF4Gs-lbM-6"
      },
      "source": [
        "# **Models**"
      ]
    },
    {
      "cell_type": "markdown",
      "metadata": {
        "id": "CrZv_4E5GtdC"
      },
      "source": [
        "*As one of the most popular and effect transfer learning model in use of images, VGG16 model is tried on our dataset.*"
      ]
    },
    {
      "cell_type": "code",
      "metadata": {
        "colab": {
          "base_uri": "https://localhost:8080/"
        },
        "id": "N7wSNdAAq68_",
        "outputId": "dfc79e35-26a9-460e-c40f-80282aca8884"
      },
      "source": [
        "# Generators\n",
        "train_data_generator, val_data_generator, test_data_generator = get_generators(tf.keras.applications.vgg19.preprocess_input)"
      ],
      "execution_count": 43,
      "outputs": [
        {
          "output_type": "stream",
          "text": [
            "Found 10000 images belonging to 2 classes.\n",
            "Found 800 images belonging to 2 classes.\n",
            "Found 992 images belonging to 2 classes.\n"
          ],
          "name": "stdout"
        }
      ]
    },
    {
      "cell_type": "code",
      "metadata": {
        "colab": {
          "base_uri": "https://localhost:8080/"
        },
        "id": "cL4ipe7kP1eO",
        "outputId": "c7114eb0-88ed-4ecd-ddcb-1a834d9d49c1"
      },
      "source": [
        "images, labels = next(train_data_generator)\n",
        "\n",
        "print(images.shape)\n",
        "print(labels.shape)"
      ],
      "execution_count": 62,
      "outputs": [
        {
          "output_type": "stream",
          "text": [
            "(500, 128, 128, 3)\n",
            "(500, 2)\n"
          ],
          "name": "stdout"
        }
      ]
    },
    {
      "cell_type": "markdown",
      "metadata": {
        "id": "a9xXmknQHGm6"
      },
      "source": [
        "## **First Model**: VGG16"
      ]
    },
    {
      "cell_type": "markdown",
      "metadata": {
        "id": "_peOpTgvt9pb"
      },
      "source": [
        "The first trial is just using the pre-trained model with minimum contribution"
      ]
    },
    {
      "cell_type": "code",
      "metadata": {
        "colab": {
          "base_uri": "https://localhost:8080/"
        },
        "id": "xJAQIalfbQXz",
        "outputId": "9aeee2bb-f38b-4f1e-f6ec-f69565cc8cc0"
      },
      "source": [
        "from keras.applications.vgg16 import VGG16\n",
        "\n",
        "# Load model without classification head\n",
        "base_model = VGG16(include_top = False,\n",
        "                   weights = 'imagenet',\n",
        "                   input_shape = (HEIGHT, WIDTH, 3))\n",
        "\n",
        "# Mark loaded layers as not trainable\n",
        "for layer in base_model.layers:\n",
        "  layer.trainable = False\n",
        "\n",
        "# Add new classifier layers\n",
        "x = Flatten()(base_model.layers[-1].output)\n",
        "x = Dense(64, activation='relu')(x)\n",
        "output = Dense(2, activation='sigmoid')(x)\n",
        "\n",
        "# Define new model\n",
        "model = Model(inputs = base_model.inputs, outputs = output)\n",
        "\n",
        "# Print summary\n",
        "model.summary()\n",
        "\n",
        "# Compile\n",
        "base_learning_rate = 0.0001\n",
        "model.compile(optimizer = tf.keras.optimizers.SGD(learning_rate = base_learning_rate),\n",
        "            loss = 'binary_crossentropy',\n",
        "            metrics = ['accuracy'])"
      ],
      "execution_count": 49,
      "outputs": [
        {
          "output_type": "stream",
          "text": [
            "Model: \"model_8\"\n",
            "_________________________________________________________________\n",
            "Layer (type)                 Output Shape              Param #   \n",
            "=================================================================\n",
            "input_9 (InputLayer)         [(None, 128, 128, 3)]     0         \n",
            "_________________________________________________________________\n",
            "block1_conv1 (Conv2D)        (None, 128, 128, 64)      1792      \n",
            "_________________________________________________________________\n",
            "block1_conv2 (Conv2D)        (None, 128, 128, 64)      36928     \n",
            "_________________________________________________________________\n",
            "block1_pool (MaxPooling2D)   (None, 64, 64, 64)        0         \n",
            "_________________________________________________________________\n",
            "block2_conv1 (Conv2D)        (None, 64, 64, 128)       73856     \n",
            "_________________________________________________________________\n",
            "block2_conv2 (Conv2D)        (None, 64, 64, 128)       147584    \n",
            "_________________________________________________________________\n",
            "block2_pool (MaxPooling2D)   (None, 32, 32, 128)       0         \n",
            "_________________________________________________________________\n",
            "block3_conv1 (Conv2D)        (None, 32, 32, 256)       295168    \n",
            "_________________________________________________________________\n",
            "block3_conv2 (Conv2D)        (None, 32, 32, 256)       590080    \n",
            "_________________________________________________________________\n",
            "block3_conv3 (Conv2D)        (None, 32, 32, 256)       590080    \n",
            "_________________________________________________________________\n",
            "block3_pool (MaxPooling2D)   (None, 16, 16, 256)       0         \n",
            "_________________________________________________________________\n",
            "block4_conv1 (Conv2D)        (None, 16, 16, 512)       1180160   \n",
            "_________________________________________________________________\n",
            "block4_conv2 (Conv2D)        (None, 16, 16, 512)       2359808   \n",
            "_________________________________________________________________\n",
            "block4_conv3 (Conv2D)        (None, 16, 16, 512)       2359808   \n",
            "_________________________________________________________________\n",
            "block4_pool (MaxPooling2D)   (None, 8, 8, 512)         0         \n",
            "_________________________________________________________________\n",
            "block5_conv1 (Conv2D)        (None, 8, 8, 512)         2359808   \n",
            "_________________________________________________________________\n",
            "block5_conv2 (Conv2D)        (None, 8, 8, 512)         2359808   \n",
            "_________________________________________________________________\n",
            "block5_conv3 (Conv2D)        (None, 8, 8, 512)         2359808   \n",
            "_________________________________________________________________\n",
            "block5_pool (MaxPooling2D)   (None, 4, 4, 512)         0         \n",
            "_________________________________________________________________\n",
            "flatten_8 (Flatten)          (None, 8192)              0         \n",
            "_________________________________________________________________\n",
            "dense_15 (Dense)             (None, 64)                524352    \n",
            "_________________________________________________________________\n",
            "dense_16 (Dense)             (None, 2)                 130       \n",
            "=================================================================\n",
            "Total params: 15,239,170\n",
            "Trainable params: 524,482\n",
            "Non-trainable params: 14,714,688\n",
            "_________________________________________________________________\n"
          ],
          "name": "stdout"
        }
      ]
    },
    {
      "cell_type": "markdown",
      "metadata": {
        "id": "_qGv5iEEeFfm"
      },
      "source": [
        "**Let's train the model!!**"
      ]
    },
    {
      "cell_type": "code",
      "metadata": {
        "colab": {
          "base_uri": "https://localhost:8080/"
        },
        "id": "jouaK9n7eIIT",
        "outputId": "354ddfd0-5cc0-4efd-b5c8-40914464fdec"
      },
      "source": [
        "# I can choose small number of epochs for initial investigation for the model perfomance\n",
        "INITIAL_EPOCHS = 5\n",
        "\n",
        "history = model.fit(train_data_generator,\n",
        "                    validation_data = val_data_generator,\n",
        "                    epochs = INITIAL_EPOCHS,\n",
        "                    steps_per_epoch=10000//BATCH_SIZE,\n",
        "                    validation_steps=800//BATCH_SIZE,\n",
        "                    batch_size = BATCH_SIZE)"
      ],
      "execution_count": 50,
      "outputs": [
        {
          "output_type": "stream",
          "text": [
            "Epoch 1/5\n",
            "20/20 [==============================] - 54s 3s/step - loss: 0.7298 - accuracy: 0.4985 - val_loss: 0.7279 - val_accuracy: 0.4820\n",
            "Epoch 2/5\n",
            "20/20 [==============================] - 52s 3s/step - loss: 0.7132 - accuracy: 0.5080 - val_loss: 0.7172 - val_accuracy: 0.4880\n",
            "Epoch 3/5\n",
            "20/20 [==============================] - 52s 3s/step - loss: 0.7048 - accuracy: 0.5256 - val_loss: 0.7070 - val_accuracy: 0.5060\n",
            "Epoch 4/5\n",
            "20/20 [==============================] - 52s 3s/step - loss: 0.6987 - accuracy: 0.5312 - val_loss: 0.7064 - val_accuracy: 0.5080\n",
            "Epoch 5/5\n",
            "20/20 [==============================] - 52s 3s/step - loss: 0.6915 - accuracy: 0.5603 - val_loss: 0.6938 - val_accuracy: 0.5320\n"
          ],
          "name": "stdout"
        }
      ]
    },
    {
      "cell_type": "markdown",
      "metadata": {
        "id": "HOlh0LPzgBgy"
      },
      "source": [
        "The VGG16 model seems promising but relatively slow, hence we're going to raise the learning rate to notice its effect."
      ]
    },
    {
      "cell_type": "code",
      "metadata": {
        "colab": {
          "base_uri": "https://localhost:8080/"
        },
        "id": "UTdSJTj7gdaT",
        "outputId": "fa14bd6b-c44d-494c-a1aa-fee2018d490e"
      },
      "source": [
        "# Add new classifier layers\n",
        "x = Flatten()(base_model.layers[-1].output)\n",
        "x = Dense(64, activation='relu')(x)\n",
        "output = Dense(2, activation='sigmoid')(x)\n",
        "\n",
        "# Define new model\n",
        "model = Model(inputs = base_model.inputs, outputs = output)\n",
        "\n",
        "# Compile\n",
        "base_learning_rate = 0.01\n",
        "model.compile(optimizer = tf.keras.optimizers.SGD(learning_rate = base_learning_rate),\n",
        "            loss = 'binary_crossentropy',\n",
        "            metrics = ['accuracy'])\n",
        "\n",
        "history = model.fit(train_data_generator,\n",
        "                    validation_data = val_data_generator,\n",
        "                    epochs = INITIAL_EPOCHS,\n",
        "                    steps_per_epoch=10000//BATCH_SIZE,\n",
        "                    validation_steps=800//BATCH_SIZE,\n",
        "                    batch_size = BATCH_SIZE)"
      ],
      "execution_count": 69,
      "outputs": [
        {
          "output_type": "stream",
          "text": [
            "Epoch 1/5\n",
            "20/20 [==============================] - 176s 3s/step - loss: 0.6527 - accuracy: 0.6204 - val_loss: 0.5984 - val_accuracy: 0.6140\n",
            "Epoch 2/5\n",
            "20/20 [==============================] - 53s 3s/step - loss: 0.5964 - accuracy: 0.6127 - val_loss: 0.5234 - val_accuracy: 0.7000\n",
            "Epoch 3/5\n",
            "20/20 [==============================] - 53s 3s/step - loss: 0.4178 - accuracy: 0.8179 - val_loss: 0.3747 - val_accuracy: 0.8080\n",
            "Epoch 4/5\n",
            "20/20 [==============================] - 53s 3s/step - loss: 0.3975 - accuracy: 0.8151 - val_loss: 0.3132 - val_accuracy: 0.8760\n",
            "Epoch 5/5\n",
            "20/20 [==============================] - 53s 3s/step - loss: 0.3097 - accuracy: 0.8906 - val_loss: 0.2651 - val_accuracy: 0.9080\n"
          ],
          "name": "stdout"
        }
      ]
    },
    {
      "cell_type": "markdown",
      "metadata": {
        "id": "KnMC2taHjDGL"
      },
      "source": [
        "Yes, that's right! The model behaves better with higher learning rate. Let's try the same model with different optimizer (Adam)."
      ]
    },
    {
      "cell_type": "code",
      "metadata": {
        "colab": {
          "base_uri": "https://localhost:8080/"
        },
        "id": "lSnZaZtBjJYU",
        "outputId": "e85a0a2d-d774-4d09-d51d-54dbdf405258"
      },
      "source": [
        "# Add new classifier layers\n",
        "x = Flatten()(base_model.layers[-1].output)\n",
        "x = Dense(64, activation='relu')(x)\n",
        "output = Dense(2, activation='sigmoid')(x)\n",
        "\n",
        "# Define new model\n",
        "model = Model(inputs = base_model.inputs, outputs = output)\n",
        "\n",
        "# Compile\n",
        "base_learning_rate = 0.01\n",
        "model.compile(optimizer = tf.keras.optimizers.Adam(learning_rate = base_learning_rate),\n",
        "            loss = 'binary_crossentropy',\n",
        "            metrics = ['accuracy'])\n",
        "\n",
        "history = model.fit(train_data_generator,\n",
        "                    validation_data = val_data_generator,\n",
        "                    epochs = INITIAL_EPOCHS,\n",
        "                    steps_per_epoch=10000//BATCH_SIZE,\n",
        "                    validation_steps=800//BATCH_SIZE,\n",
        "                    batch_size = BATCH_SIZE)"
      ],
      "execution_count": 70,
      "outputs": [
        {
          "output_type": "stream",
          "text": [
            "Epoch 1/5\n",
            "20/20 [==============================] - 54s 3s/step - loss: 3.0916 - accuracy: 0.6469 - val_loss: 0.2684 - val_accuracy: 0.8980\n",
            "Epoch 2/5\n",
            "20/20 [==============================] - 52s 3s/step - loss: 0.1931 - accuracy: 0.9268 - val_loss: 0.1124 - val_accuracy: 0.9580\n",
            "Epoch 3/5\n",
            "20/20 [==============================] - 53s 3s/step - loss: 0.1097 - accuracy: 0.9558 - val_loss: 0.0932 - val_accuracy: 0.9700\n",
            "Epoch 4/5\n",
            "20/20 [==============================] - 54s 3s/step - loss: 0.0802 - accuracy: 0.9710 - val_loss: 0.0890 - val_accuracy: 0.9620\n",
            "Epoch 5/5\n",
            "20/20 [==============================] - 53s 3s/step - loss: 0.0705 - accuracy: 0.9721 - val_loss: 0.0756 - val_accuracy: 0.9660\n"
          ],
          "name": "stdout"
        }
      ]
    },
    {
      "cell_type": "markdown",
      "metadata": {
        "id": "ZCCFQw89lVv5"
      },
      "source": [
        "Adam Optimizer has already boosted the model behavior. The next step is to include more layers for robustness in addition to dropout layers to somehow avoid overfitting."
      ]
    },
    {
      "cell_type": "code",
      "metadata": {
        "colab": {
          "base_uri": "https://localhost:8080/"
        },
        "id": "e5Ac4Jjolluh",
        "outputId": "24b887b6-23df-4d05-cfd8-85c037f7c440"
      },
      "source": [
        "# Add new classifier layers\n",
        "x = Flatten()(base_model.layers[-1].output)\n",
        "x = Dense(256, activation='relu')(x)\n",
        "x = Dropout(0.3)(x)\n",
        "x = Dense(128, activation='relu')(x)\n",
        "x = Dropout(0.3)(x)\n",
        "x = Dense(64, activation='relu')(x)\n",
        "output = Dense(2, activation='sigmoid')(x)\n",
        "\n",
        "# Define new model\n",
        "model = Model(inputs = base_model.inputs, outputs = output)\n",
        "\n",
        "# Compile\n",
        "base_learning_rate = 0.01\n",
        "model.compile(optimizer = tf.keras.optimizers.Adam(learning_rate = base_learning_rate),\n",
        "            loss = 'binary_crossentropy',\n",
        "            metrics = ['accuracy'])\n",
        "\n",
        "history = model.fit(train_data_generator,\n",
        "                    validation_data = val_data_generator,\n",
        "                    epochs = 15,\n",
        "                    steps_per_epoch=10000//BATCH_SIZE,\n",
        "                    validation_steps=800//BATCH_SIZE,\n",
        "                    batch_size = BATCH_SIZE)"
      ],
      "execution_count": 72,
      "outputs": [
        {
          "output_type": "stream",
          "text": [
            "Epoch 1/15\n",
            "20/20 [==============================] - 55s 3s/step - loss: 2.2918 - accuracy: 0.7084 - val_loss: 0.1535 - val_accuracy: 0.9500\n",
            "Epoch 2/15\n",
            "20/20 [==============================] - 52s 3s/step - loss: 0.1444 - accuracy: 0.9480 - val_loss: 0.0993 - val_accuracy: 0.9620\n",
            "Epoch 3/15\n",
            "20/20 [==============================] - 53s 3s/step - loss: 0.1053 - accuracy: 0.9610 - val_loss: 0.0721 - val_accuracy: 0.9780\n",
            "Epoch 4/15\n",
            "20/20 [==============================] - 52s 3s/step - loss: 0.0868 - accuracy: 0.9678 - val_loss: 0.0686 - val_accuracy: 0.9760\n",
            "Epoch 5/15\n",
            "20/20 [==============================] - 52s 3s/step - loss: 0.0739 - accuracy: 0.9728 - val_loss: 0.0501 - val_accuracy: 0.9800\n",
            "Epoch 6/15\n",
            "20/20 [==============================] - 52s 3s/step - loss: 0.0694 - accuracy: 0.9744 - val_loss: 0.0790 - val_accuracy: 0.9780\n",
            "Epoch 7/15\n",
            "20/20 [==============================] - 52s 3s/step - loss: 0.0707 - accuracy: 0.9723 - val_loss: 0.0314 - val_accuracy: 0.9900\n",
            "Epoch 8/15\n",
            "20/20 [==============================] - 52s 3s/step - loss: 0.0596 - accuracy: 0.9794 - val_loss: 0.0515 - val_accuracy: 0.9820\n",
            "Epoch 9/15\n",
            "20/20 [==============================] - 51s 3s/step - loss: 0.0633 - accuracy: 0.9788 - val_loss: 0.0250 - val_accuracy: 0.9920\n",
            "Epoch 10/15\n",
            "20/20 [==============================] - 51s 3s/step - loss: 0.0560 - accuracy: 0.9799 - val_loss: 0.0566 - val_accuracy: 0.9800\n",
            "Epoch 11/15\n",
            "20/20 [==============================] - 51s 3s/step - loss: 0.0474 - accuracy: 0.9826 - val_loss: 0.0388 - val_accuracy: 0.9860\n",
            "Epoch 12/15\n",
            "20/20 [==============================] - 51s 3s/step - loss: 0.0423 - accuracy: 0.9852 - val_loss: 0.0524 - val_accuracy: 0.9800\n",
            "Epoch 13/15\n",
            "20/20 [==============================] - 51s 3s/step - loss: 0.0499 - accuracy: 0.9821 - val_loss: 0.0373 - val_accuracy: 0.9900\n",
            "Epoch 14/15\n",
            "20/20 [==============================] - 51s 3s/step - loss: 0.0564 - accuracy: 0.9796 - val_loss: 0.0274 - val_accuracy: 0.9860\n",
            "Epoch 15/15\n",
            "20/20 [==============================] - 52s 3s/step - loss: 0.0539 - accuracy: 0.9794 - val_loss: 0.0379 - val_accuracy: 0.9880\n"
          ],
          "name": "stdout"
        }
      ]
    },
    {
      "cell_type": "code",
      "metadata": {
        "colab": {
          "base_uri": "https://localhost:8080/",
          "height": 513
        },
        "id": "78YNOQcKmlTt",
        "outputId": "7143d41c-5be1-43dd-bdb5-442a80891bcf"
      },
      "source": [
        "plot_history(history)"
      ],
      "execution_count": 74,
      "outputs": [
        {
          "output_type": "display_data",
          "data": {
            "image/png": "[encoded data removed]",
            "text/plain": [
              "<Figure size 576x576 with 2 Axes>"
            ]
          },
          "metadata": {
            "tags": [],
            "needs_background": "light"
          }
        }
      ]
    },
    {
      "cell_type": "code",
      "metadata": {
        "colab": {
          "base_uri": "https://localhost:8080/"
        },
        "id": "-UIVsUKbR-YZ",
        "outputId": "45874a52-56a5-4123-8c43-01b05c138fc4"
      },
      "source": [
        "# Evaluation on test data !\n",
        "model.metrics_names \n",
        "model.evaluate(test_data_generator, batch_size=BATCH_SIZE, steps=20)"
      ],
      "execution_count": 76,
      "outputs": [
        {
          "output_type": "stream",
          "text": [
            "20/20 [==============================] - 17s 875ms/step - loss: 1.2286 - accuracy: 0.9849\n"
          ],
          "name": "stdout"
        },
        {
          "output_type": "execute_result",
          "data": {
            "text/plain": [
              "[1.2286109924316406, 0.9848790168762207]"
            ]
          },
          "metadata": {
            "tags": []
          },
          "execution_count": 76
        }
      ]
    },
    {
      "cell_type": "markdown",
      "metadata": {
        "id": "DjIupCVciTqB"
      },
      "source": [
        "**Great! We acheived the required performance with VGG16 model**"
      ]
    },
    {
      "cell_type": "code",
      "metadata": {
        "colab": {
          "base_uri": "https://localhost:8080/"
        },
        "id": "BF8GfOKXsxDO",
        "outputId": "7950e69c-235e-450e-9921-ecd5f9f99174"
      },
      "source": [
        "# Save the model!\n",
        "model.save('face_mask_detection_vgg16')"
      ],
      "execution_count": 82,
      "outputs": [
        {
          "output_type": "stream",
          "text": [
            "INFO:tensorflow:Assets written to: face_mask_detection_vgg16/assets\n"
          ],
          "name": "stdout"
        }
      ]
    }
  ]
}